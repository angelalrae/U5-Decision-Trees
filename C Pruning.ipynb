{
 "cells": [
  {
   "cell_type": "markdown",
   "metadata": {},
   "source": [
    "# [CPSC 310](https://github.com/GonzagaCPSC310) Data Mining\n",
    "[Gonzaga University](https://www.gonzaga.edu/)\n",
    "\n",
    "[Gina Sprint](http://cs.gonzaga.edu/faculty/sprint/)\n",
    "\n",
    "# Pruning\n",
    "What are our learning objectives for this lesson?\n",
    "* Prune decision trees\n",
    "* Visualize decision trees\n",
    "\n",
    "Content used in this lesson is based upon information in the following sources:\n",
    "* Dr. Shawn Bowers' Data Mining notes"
   ]
  },
  {
   "cell_type": "markdown",
   "metadata": {},
   "source": [
    "## Decision Tree Pruning\n",
    "### Pre-pruning\n",
    "* As the tree is being constructed, stop \"early\" on a path\n",
    "* Instead of partitioning further, return majority vote or distribution\n",
    "* For example, require a certain entropy threshold before further partitioning\n",
    "\n",
    "### Post-pruning\n",
    "* Remove subtrees after a tree has been generated\n",
    "* Goal is to simplify the rules\n",
    "* Various algorithms for doing the pruning ...\n",
    "\n",
    "As an example, assume we have this within a decision tree:\n",
    "<img src=\"https://raw.githubusercontent.com/GonzagaCPSC310/U5-Decision-Trees/master/figures/pruning_example.png\" width=\"250\"/>\n",
    "\n",
    "* To prune, we might replace Attribute 3 with a leaf node\n",
    "* e.g., with the most frequently occurring class\n",
    "* e.g., if Yes nodes far outweigh No nodes under Attribute 3"
   ]
  },
  {
   "cell_type": "markdown",
   "metadata": {},
   "source": [
    "Problem: To pick the best pruned tree, we have to construct all pruned trees (there can be a lot of these!)\n",
    "\n",
    "Instead use heuristics: e.g., the **Cost Complexity** algorithm\n",
    "* Cost complexity is a function of:\n",
    "    * Number of leaves in the tree, and\n",
    "    * Error-rate of the tree (pct of instances misclassified)\n",
    "    * We want to minimize both the number of leaves (rules) and error rate\n",
    "* Works bottom up:\n",
    "    * At each attribute node, compute cost complexity\n",
    "    * Compare this to pruned cost complexity\n",
    "    * If pruning lowers cost complexity, then prune\n",
    "    * Otherwise keep un-pruned"
   ]
  }
 ],
 "metadata": {
  "anaconda-cloud": {},
  "kernelspec": {
   "display_name": "Python 3",
   "language": "python",
   "name": "python3"
  },
  "language_info": {
   "codemirror_mode": {
    "name": "ipython",
    "version": 3
   },
   "file_extension": ".py",
   "mimetype": "text/x-python",
   "name": "python",
   "nbconvert_exporter": "python",
   "pygments_lexer": "ipython3",
   "version": "3.7.1"
  }
 },
 "nbformat": 4,
 "nbformat_minor": 1
}
